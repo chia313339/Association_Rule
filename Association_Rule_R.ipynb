{
 "cells": [
  {
   "cell_type": "markdown",
   "metadata": {},
   "source": [
    "# Association_Rule 關聯規則\n",
    "- 以下使用R3.6\n",
    "- 使用arules套件 install.packages(\"arules\")"
   ]
  },
  {
   "cell_type": "code",
   "execution_count": 68,
   "metadata": {},
   "outputs": [],
   "source": [
    "library(\"arules\")"
   ]
  },
  {
   "cell_type": "markdown",
   "metadata": {},
   "source": [
    "自定義一份資料集"
   ]
  },
  {
   "cell_type": "code",
   "execution_count": 69,
   "metadata": {},
   "outputs": [],
   "source": [
    "df = data.frame(ID=c(1,2,3,4,5,6),\n",
    "                  Onion=c(1,0,0,1,1,1),\n",
    "                  Potato=c(1,1,0,1,1,1),\n",
    "                  Burger=c(1,1,0,0,1,1),\n",
    "                  Milk=c(0,1,1,1,0,1),\n",
    "                  Beer=c(0,0,1,0,1,0))"
   ]
  },
  {
   "cell_type": "code",
   "execution_count": 70,
   "metadata": {},
   "outputs": [
    {
     "data": {
      "text/html": [
       "<table>\n",
       "<caption>A data.frame: 6 × 6</caption>\n",
       "<thead>\n",
       "\t<tr><th scope=col>ID</th><th scope=col>Onion</th><th scope=col>Potato</th><th scope=col>Burger</th><th scope=col>Milk</th><th scope=col>Beer</th></tr>\n",
       "\t<tr><th scope=col>&lt;dbl&gt;</th><th scope=col>&lt;dbl&gt;</th><th scope=col>&lt;dbl&gt;</th><th scope=col>&lt;dbl&gt;</th><th scope=col>&lt;dbl&gt;</th><th scope=col>&lt;dbl&gt;</th></tr>\n",
       "</thead>\n",
       "<tbody>\n",
       "\t<tr><td>1</td><td>1</td><td>1</td><td>1</td><td>0</td><td>0</td></tr>\n",
       "\t<tr><td>2</td><td>0</td><td>1</td><td>1</td><td>1</td><td>0</td></tr>\n",
       "\t<tr><td>3</td><td>0</td><td>0</td><td>0</td><td>1</td><td>1</td></tr>\n",
       "\t<tr><td>4</td><td>1</td><td>1</td><td>0</td><td>1</td><td>0</td></tr>\n",
       "\t<tr><td>5</td><td>1</td><td>1</td><td>1</td><td>0</td><td>1</td></tr>\n",
       "\t<tr><td>6</td><td>1</td><td>1</td><td>1</td><td>1</td><td>0</td></tr>\n",
       "</tbody>\n",
       "</table>\n"
      ],
      "text/latex": [
       "A data.frame: 6 × 6\n",
       "\\begin{tabular}{llllll}\n",
       " ID & Onion & Potato & Burger & Milk & Beer\\\\\n",
       " <dbl> & <dbl> & <dbl> & <dbl> & <dbl> & <dbl>\\\\\n",
       "\\hline\n",
       "\t 1 & 1 & 1 & 1 & 0 & 0\\\\\n",
       "\t 2 & 0 & 1 & 1 & 1 & 0\\\\\n",
       "\t 3 & 0 & 0 & 0 & 1 & 1\\\\\n",
       "\t 4 & 1 & 1 & 0 & 1 & 0\\\\\n",
       "\t 5 & 1 & 1 & 1 & 0 & 1\\\\\n",
       "\t 6 & 1 & 1 & 1 & 1 & 0\\\\\n",
       "\\end{tabular}\n"
      ],
      "text/markdown": [
       "\n",
       "A data.frame: 6 × 6\n",
       "\n",
       "| ID &lt;dbl&gt; | Onion &lt;dbl&gt; | Potato &lt;dbl&gt; | Burger &lt;dbl&gt; | Milk &lt;dbl&gt; | Beer &lt;dbl&gt; |\n",
       "|---|---|---|---|---|---|\n",
       "| 1 | 1 | 1 | 1 | 0 | 0 |\n",
       "| 2 | 0 | 1 | 1 | 1 | 0 |\n",
       "| 3 | 0 | 0 | 0 | 1 | 1 |\n",
       "| 4 | 1 | 1 | 0 | 1 | 0 |\n",
       "| 5 | 1 | 1 | 1 | 0 | 1 |\n",
       "| 6 | 1 | 1 | 1 | 1 | 0 |\n",
       "\n"
      ],
      "text/plain": [
       "  ID Onion Potato Burger Milk Beer\n",
       "1 1  1     1      1      0    0   \n",
       "2 2  0     1      1      1    0   \n",
       "3 3  0     0      0      1    1   \n",
       "4 4  1     1      0      1    0   \n",
       "5 5  1     1      1      0    1   \n",
       "6 6  1     1      1      1    0   "
      ]
     },
     "metadata": {},
     "output_type": "display_data"
    }
   ],
   "source": [
    "df"
   ]
  },
  {
   "cell_type": "markdown",
   "metadata": {},
   "source": [
    "### 設置支持度來篩選頻繁項集\n",
    "- apriori(df,parameter=list(support=0.5,minlen=2))\n",
    "- 上面選擇最小支持度為50%，實務上會根據樣本量及資料特性設定"
   ]
  },
  {
   "cell_type": "code",
   "execution_count": 71,
   "metadata": {},
   "outputs": [
    {
     "name": "stdout",
     "output_type": "stream",
     "text": [
      "Apriori\n",
      "\n",
      "Parameter specification:\n",
      " confidence minval smax arem  aval originalSupport maxtime support minlen\n",
      "        0.8    0.1    1 none FALSE            TRUE       5     0.5      2\n",
      " maxlen target   ext\n",
      "     10  rules FALSE\n",
      "\n",
      "Algorithmic control:\n",
      " filter tree heap memopt load sort verbose\n",
      "    0.1 TRUE TRUE  FALSE TRUE    2    TRUE\n",
      "\n",
      "Absolute minimum support count: 3 \n",
      "\n",
      "set item appearances ...[0 item(s)] done [0.00s].\n",
      "set transactions ...[5 item(s), 6 transaction(s)] done [0.00s].\n",
      "sorting and recoding items ... [4 item(s)] done [0.00s].\n",
      "creating transaction tree ... done [0.00s].\n",
      "checking subsets of size 1 2 3 done [0.00s].\n",
      "writing ... [5 rule(s)] done [0.00s].\n",
      "creating S4 object  ... done [0.00s].\n"
     ]
    }
   ],
   "source": [
    "# 需要將項集轉為logical或factor才可以計算，或史最快的方法直接轉matrix\n",
    "frequent_itemsets = apriori(as.matrix(df[,-1]),parameter=list(support=0.5,minlen=2))"
   ]
  },
  {
   "cell_type": "code",
   "execution_count": 72,
   "metadata": {},
   "outputs": [
    {
     "name": "stdout",
     "output_type": "stream",
     "text": [
      "    lhs               rhs      support   confidence lift count\n",
      "[1] {Burger}       => {Potato} 0.6666667 1.0        1.2  4    \n",
      "[2] {Potato}       => {Burger} 0.6666667 0.8        1.2  4    \n",
      "[3] {Onion}        => {Potato} 0.6666667 1.0        1.2  4    \n",
      "[4] {Potato}       => {Onion}  0.6666667 0.8        1.2  4    \n",
      "[5] {Onion,Burger} => {Potato} 0.5000000 1.0        1.2  3    \n"
     ]
    }
   ],
   "source": [
    "# R要使用inspect語法顯示結果\n",
    "inspect(frequent_itemsets)"
   ]
  },
  {
   "cell_type": "code",
   "execution_count": 73,
   "metadata": {},
   "outputs": [
    {
     "name": "stdout",
     "output_type": "stream",
     "text": [
      "    lhs               rhs      support   confidence lift count\n",
      "[1] {Potato}       => {Burger} 0.6666667 0.8        1.2  4    \n",
      "[2] {Potato}       => {Onion}  0.6666667 0.8        1.2  4    \n",
      "[3] {Burger}       => {Potato} 0.6666667 1.0        1.2  4    \n",
      "[4] {Onion}        => {Potato} 0.6666667 1.0        1.2  4    \n",
      "[5] {Onion,Burger} => {Potato} 0.5000000 1.0        1.2  3    \n"
     ]
    }
   ],
   "source": [
    "# 將結果排序，找出lift值最相關者\n",
    "sort.rule = sort(frequent_itemsets, by=c(\"lift\"))\n",
    "inspect(sort.rule)"
   ]
  },
  {
   "cell_type": "markdown",
   "metadata": {},
   "source": [
    "返回的是各個的指標的數值，可以按照感興趣的指標排序觀察,但具體解釋還得參考實際數據的含義。"
   ]
  },
  {
   "cell_type": "code",
   "execution_count": 74,
   "metadata": {},
   "outputs": [
    {
     "name": "stdout",
     "output_type": "stream",
     "text": [
      "    lhs               rhs      support   confidence lift count\n",
      "[1] {Burger}       => {Potato} 0.6666667 1          1.2  4    \n",
      "[2] {Onion}        => {Potato} 0.6666667 1          1.2  4    \n",
      "[3] {Onion,Burger} => {Potato} 0.5000000 1          1.2  3    \n"
     ]
    }
   ],
   "source": [
    "rules.sub = subset(frequent_itemsets, subset = lift > 1.125 & confidence > 0.8)\n",
    "inspect(rules.sub)"
   ]
  },
  {
   "cell_type": "markdown",
   "metadata": {},
   "source": [
    "得到幾條比較有價值的結果：\n",
    "- (洋蔥和馬鈴薯)、(漢堡和馬鈴薯)可以搭配著來賣\n",
    "- 如果洋蔥和漢堡都在購物籃中, 顧客買馬鈴薯的可能性也滿高的，如果他籃子裡面沒有，可以推薦一下."
   ]
  },
  {
   "cell_type": "markdown",
   "metadata": {},
   "source": [
    "### one-hot-encoding 編碼轉換\n",
    "- 實務資料通常需要轉換成 one hot encoding\n",
    "- 下面以逗號分隔的文字資料，為範例演練"
   ]
  },
  {
   "cell_type": "code",
   "execution_count": 75,
   "metadata": {},
   "outputs": [
    {
     "data": {
      "text/html": [
       "<table>\n",
       "<caption>A data.frame: 6 × 2</caption>\n",
       "<thead>\n",
       "\t<tr><th></th><th scope=col>ID</th><th scope=col>Basket</th></tr>\n",
       "\t<tr><th></th><th scope=col>&lt;dbl&gt;</th><th scope=col>&lt;chr&gt;</th></tr>\n",
       "</thead>\n",
       "<tbody>\n",
       "\t<tr><th scope=row>1</th><td>1</td><td>'Beer','Diaper','Pretzels','Chips','Aspirin'              </td></tr>\n",
       "\t<tr><th scope=row>2</th><td>2</td><td>'Diaper','Beer','Chips','Lotion','Juice','BabyFood','Milk'</td></tr>\n",
       "\t<tr><th scope=row>3</th><td>3</td><td>'Soda','Chips','Milk'                                     </td></tr>\n",
       "\t<tr><th scope=row>4</th><td>4</td><td>'Soup','Beer','Diaper','Milk','IceCream'                  </td></tr>\n",
       "\t<tr><th scope=row>5</th><td>5</td><td>'Soda','Coffee','Milk','Bread'                            </td></tr>\n",
       "\t<tr><th scope=row>6</th><td>6</td><td>'Beer','Chips'                                            </td></tr>\n",
       "</tbody>\n",
       "</table>\n"
      ],
      "text/latex": [
       "A data.frame: 6 × 2\n",
       "\\begin{tabular}{r|ll}\n",
       "  & ID & Basket\\\\\n",
       "  & <dbl> & <chr>\\\\\n",
       "\\hline\n",
       "\t1 & 1 & 'Beer','Diaper','Pretzels','Chips','Aspirin'              \\\\\n",
       "\t2 & 2 & 'Diaper','Beer','Chips','Lotion','Juice','BabyFood','Milk'\\\\\n",
       "\t3 & 3 & 'Soda','Chips','Milk'                                     \\\\\n",
       "\t4 & 4 & 'Soup','Beer','Diaper','Milk','IceCream'                  \\\\\n",
       "\t5 & 5 & 'Soda','Coffee','Milk','Bread'                            \\\\\n",
       "\t6 & 6 & 'Beer','Chips'                                            \\\\\n",
       "\\end{tabular}\n"
      ],
      "text/markdown": [
       "\n",
       "A data.frame: 6 × 2\n",
       "\n",
       "| <!--/--> | ID &lt;dbl&gt; | Basket &lt;chr&gt; |\n",
       "|---|---|---|\n",
       "| 1 | 1 | 'Beer','Diaper','Pretzels','Chips','Aspirin'               |\n",
       "| 2 | 2 | 'Diaper','Beer','Chips','Lotion','Juice','BabyFood','Milk' |\n",
       "| 3 | 3 | 'Soda','Chips','Milk'                                      |\n",
       "| 4 | 4 | 'Soup','Beer','Diaper','Milk','IceCream'                   |\n",
       "| 5 | 5 | 'Soda','Coffee','Milk','Bread'                             |\n",
       "| 6 | 6 | 'Beer','Chips'                                             |\n",
       "\n"
      ],
      "text/plain": [
       "  ID Basket                                                    \n",
       "1 1  'Beer','Diaper','Pretzels','Chips','Aspirin'              \n",
       "2 2  'Diaper','Beer','Chips','Lotion','Juice','BabyFood','Milk'\n",
       "3 3  'Soda','Chips','Milk'                                     \n",
       "4 4  'Soup','Beer','Diaper','Milk','IceCream'                  \n",
       "5 5  'Soda','Coffee','Milk','Bread'                            \n",
       "6 6  'Beer','Chips'                                            "
      ]
     },
     "metadata": {},
     "output_type": "display_data"
    }
   ],
   "source": [
    "retail = structure(list(ID=c(1,2,3,4,5,6),\n",
    "                                        Basket=c(\"'Beer','Diaper','Pretzels','Chips','Aspirin'\",\n",
    "                                                 \"'Diaper','Beer','Chips','Lotion','Juice','BabyFood','Milk'\",\n",
    "                                                 \"'Soda','Chips','Milk'\",\n",
    "                                                 \"'Soup','Beer','Diaper','Milk','IceCream'\",\n",
    "                                                 \"'Soda','Coffee','Milk','Bread'\",\n",
    "                                                 \"'Beer','Chips'\")),\n",
    "                                   row.names = c(NA, 6),\n",
    "                                   class = \"data.frame\")\n",
    "retail"
   ]
  },
  {
   "cell_type": "code",
   "execution_count": 76,
   "metadata": {},
   "outputs": [
    {
     "data": {
      "text/html": [
       "<table>\n",
       "<caption>A data.frame: 6 × 1</caption>\n",
       "<thead>\n",
       "\t<tr><th></th><th scope=col>ID</th></tr>\n",
       "\t<tr><th></th><th scope=col>&lt;dbl&gt;</th></tr>\n",
       "</thead>\n",
       "<tbody>\n",
       "\t<tr><th scope=row>1</th><td>1</td></tr>\n",
       "\t<tr><th scope=row>2</th><td>2</td></tr>\n",
       "\t<tr><th scope=row>3</th><td>3</td></tr>\n",
       "\t<tr><th scope=row>4</th><td>4</td></tr>\n",
       "\t<tr><th scope=row>5</th><td>5</td></tr>\n",
       "\t<tr><th scope=row>6</th><td>6</td></tr>\n",
       "</tbody>\n",
       "</table>\n"
      ],
      "text/latex": [
       "A data.frame: 6 × 1\n",
       "\\begin{tabular}{r|l}\n",
       "  & ID\\\\\n",
       "  & <dbl>\\\\\n",
       "\\hline\n",
       "\t1 & 1\\\\\n",
       "\t2 & 2\\\\\n",
       "\t3 & 3\\\\\n",
       "\t4 & 4\\\\\n",
       "\t5 & 5\\\\\n",
       "\t6 & 6\\\\\n",
       "\\end{tabular}\n"
      ],
      "text/markdown": [
       "\n",
       "A data.frame: 6 × 1\n",
       "\n",
       "| <!--/--> | ID &lt;dbl&gt; |\n",
       "|---|---|\n",
       "| 1 | 1 |\n",
       "| 2 | 2 |\n",
       "| 3 | 3 |\n",
       "| 4 | 4 |\n",
       "| 5 | 5 |\n",
       "| 6 | 6 |\n",
       "\n"
      ],
      "text/plain": [
       "  ID\n",
       "1 1 \n",
       "2 2 \n",
       "3 3 \n",
       "4 4 \n",
       "5 5 \n",
       "6 6 "
      ]
     },
     "metadata": {},
     "output_type": "display_data"
    }
   ],
   "source": [
    "# 先把ID欄位抽出來\n",
    "retail_id = retail['ID']\n",
    "retail_id"
   ]
  },
  {
   "cell_type": "code",
   "execution_count": 77,
   "metadata": {},
   "outputs": [
    {
     "data": {
      "text/html": [
       "<table>\n",
       "<caption>A data.frame: 6 × 14</caption>\n",
       "<thead>\n",
       "\t<tr><th scope=col>Aspirin</th><th scope=col>BabyFood</th><th scope=col>Beer</th><th scope=col>Bread</th><th scope=col>Chips</th><th scope=col>Coffee</th><th scope=col>Diaper</th><th scope=col>IceCream</th><th scope=col>Juice</th><th scope=col>Lotion</th><th scope=col>Milk</th><th scope=col>Pretzels</th><th scope=col>Soda</th><th scope=col>Soup</th></tr>\n",
       "\t<tr><th scope=col>&lt;int&gt;</th><th scope=col>&lt;int&gt;</th><th scope=col>&lt;int&gt;</th><th scope=col>&lt;int&gt;</th><th scope=col>&lt;int&gt;</th><th scope=col>&lt;int&gt;</th><th scope=col>&lt;int&gt;</th><th scope=col>&lt;int&gt;</th><th scope=col>&lt;int&gt;</th><th scope=col>&lt;int&gt;</th><th scope=col>&lt;int&gt;</th><th scope=col>&lt;int&gt;</th><th scope=col>&lt;int&gt;</th><th scope=col>&lt;int&gt;</th></tr>\n",
       "</thead>\n",
       "<tbody>\n",
       "\t<tr><td>1</td><td>0</td><td>1</td><td>0</td><td>1</td><td>0</td><td>1</td><td>0</td><td>0</td><td>0</td><td>0</td><td>1</td><td>0</td><td>0</td></tr>\n",
       "\t<tr><td>0</td><td>1</td><td>1</td><td>0</td><td>1</td><td>0</td><td>1</td><td>0</td><td>1</td><td>1</td><td>1</td><td>0</td><td>0</td><td>0</td></tr>\n",
       "\t<tr><td>0</td><td>0</td><td>0</td><td>0</td><td>1</td><td>0</td><td>0</td><td>0</td><td>0</td><td>0</td><td>1</td><td>0</td><td>1</td><td>0</td></tr>\n",
       "\t<tr><td>0</td><td>0</td><td>1</td><td>0</td><td>0</td><td>0</td><td>1</td><td>1</td><td>0</td><td>0</td><td>1</td><td>0</td><td>0</td><td>1</td></tr>\n",
       "\t<tr><td>0</td><td>0</td><td>0</td><td>1</td><td>0</td><td>1</td><td>0</td><td>0</td><td>0</td><td>0</td><td>1</td><td>0</td><td>1</td><td>0</td></tr>\n",
       "\t<tr><td>0</td><td>0</td><td>1</td><td>0</td><td>1</td><td>0</td><td>0</td><td>0</td><td>0</td><td>0</td><td>0</td><td>0</td><td>0</td><td>0</td></tr>\n",
       "</tbody>\n",
       "</table>\n"
      ],
      "text/latex": [
       "A data.frame: 6 × 14\n",
       "\\begin{tabular}{llllllllllllll}\n",
       " Aspirin & BabyFood & Beer & Bread & Chips & Coffee & Diaper & IceCream & Juice & Lotion & Milk & Pretzels & Soda & Soup\\\\\n",
       " <int> & <int> & <int> & <int> & <int> & <int> & <int> & <int> & <int> & <int> & <int> & <int> & <int> & <int>\\\\\n",
       "\\hline\n",
       "\t 1 & 0 & 1 & 0 & 1 & 0 & 1 & 0 & 0 & 0 & 0 & 1 & 0 & 0\\\\\n",
       "\t 0 & 1 & 1 & 0 & 1 & 0 & 1 & 0 & 1 & 1 & 1 & 0 & 0 & 0\\\\\n",
       "\t 0 & 0 & 0 & 0 & 1 & 0 & 0 & 0 & 0 & 0 & 1 & 0 & 1 & 0\\\\\n",
       "\t 0 & 0 & 1 & 0 & 0 & 0 & 1 & 1 & 0 & 0 & 1 & 0 & 0 & 1\\\\\n",
       "\t 0 & 0 & 0 & 1 & 0 & 1 & 0 & 0 & 0 & 0 & 1 & 0 & 1 & 0\\\\\n",
       "\t 0 & 0 & 1 & 0 & 1 & 0 & 0 & 0 & 0 & 0 & 0 & 0 & 0 & 0\\\\\n",
       "\\end{tabular}\n"
      ],
      "text/markdown": [
       "\n",
       "A data.frame: 6 × 14\n",
       "\n",
       "| Aspirin &lt;int&gt; | BabyFood &lt;int&gt; | Beer &lt;int&gt; | Bread &lt;int&gt; | Chips &lt;int&gt; | Coffee &lt;int&gt; | Diaper &lt;int&gt; | IceCream &lt;int&gt; | Juice &lt;int&gt; | Lotion &lt;int&gt; | Milk &lt;int&gt; | Pretzels &lt;int&gt; | Soda &lt;int&gt; | Soup &lt;int&gt; |\n",
       "|---|---|---|---|---|---|---|---|---|---|---|---|---|---|\n",
       "| 1 | 0 | 1 | 0 | 1 | 0 | 1 | 0 | 0 | 0 | 0 | 1 | 0 | 0 |\n",
       "| 0 | 1 | 1 | 0 | 1 | 0 | 1 | 0 | 1 | 1 | 1 | 0 | 0 | 0 |\n",
       "| 0 | 0 | 0 | 0 | 1 | 0 | 0 | 0 | 0 | 0 | 1 | 0 | 1 | 0 |\n",
       "| 0 | 0 | 1 | 0 | 0 | 0 | 1 | 1 | 0 | 0 | 1 | 0 | 0 | 1 |\n",
       "| 0 | 0 | 0 | 1 | 0 | 1 | 0 | 0 | 0 | 0 | 1 | 0 | 1 | 0 |\n",
       "| 0 | 0 | 1 | 0 | 1 | 0 | 0 | 0 | 0 | 0 | 0 | 0 | 0 | 0 |\n",
       "\n"
      ],
      "text/plain": [
       "  Aspirin BabyFood Beer Bread Chips Coffee Diaper IceCream Juice Lotion Milk\n",
       "1 1       0        1    0     1     0      1      0        0     0      0   \n",
       "2 0       1        1    0     1     0      1      0        1     1      1   \n",
       "3 0       0        0    0     1     0      0      0        0     0      1   \n",
       "4 0       0        1    0     0     0      1      1        0     0      1   \n",
       "5 0       0        0    1     0     1      0      0        0     0      1   \n",
       "6 0       0        1    0     1     0      0      0        0     0      0   \n",
       "  Pretzels Soda Soup\n",
       "1 1        0    0   \n",
       "2 0        0    0   \n",
       "3 0        1    0   \n",
       "4 0        0    1   \n",
       "5 0        1    0   \n",
       "6 0        0    0   "
      ]
     },
     "metadata": {},
     "output_type": "display_data"
    }
   ],
   "source": [
    "# 用逗號分隔每個字詞\n",
    "library('qdapTools')\n",
    "retail_Basket = mtabulate(strsplit(retail$Basket, \",\",fixed = TRUE))\n",
    "names(retail_Basket) = gsub(\"'\", \"\", names(retail_Basket))\n",
    "retail_Basket"
   ]
  },
  {
   "cell_type": "code",
   "execution_count": 78,
   "metadata": {},
   "outputs": [
    {
     "data": {
      "text/html": [
       "<table>\n",
       "<caption>A data.frame: 6 × 15</caption>\n",
       "<thead>\n",
       "\t<tr><th></th><th scope=col>ID</th><th scope=col>Aspirin</th><th scope=col>BabyFood</th><th scope=col>Beer</th><th scope=col>Bread</th><th scope=col>Chips</th><th scope=col>Coffee</th><th scope=col>Diaper</th><th scope=col>IceCream</th><th scope=col>Juice</th><th scope=col>Lotion</th><th scope=col>Milk</th><th scope=col>Pretzels</th><th scope=col>Soda</th><th scope=col>Soup</th></tr>\n",
       "\t<tr><th></th><th scope=col>&lt;dbl&gt;</th><th scope=col>&lt;int&gt;</th><th scope=col>&lt;int&gt;</th><th scope=col>&lt;int&gt;</th><th scope=col>&lt;int&gt;</th><th scope=col>&lt;int&gt;</th><th scope=col>&lt;int&gt;</th><th scope=col>&lt;int&gt;</th><th scope=col>&lt;int&gt;</th><th scope=col>&lt;int&gt;</th><th scope=col>&lt;int&gt;</th><th scope=col>&lt;int&gt;</th><th scope=col>&lt;int&gt;</th><th scope=col>&lt;int&gt;</th><th scope=col>&lt;int&gt;</th></tr>\n",
       "</thead>\n",
       "<tbody>\n",
       "\t<tr><th scope=row>1</th><td>1</td><td>1</td><td>0</td><td>1</td><td>0</td><td>1</td><td>0</td><td>1</td><td>0</td><td>0</td><td>0</td><td>0</td><td>1</td><td>0</td><td>0</td></tr>\n",
       "\t<tr><th scope=row>2</th><td>2</td><td>0</td><td>1</td><td>1</td><td>0</td><td>1</td><td>0</td><td>1</td><td>0</td><td>1</td><td>1</td><td>1</td><td>0</td><td>0</td><td>0</td></tr>\n",
       "\t<tr><th scope=row>3</th><td>3</td><td>0</td><td>0</td><td>0</td><td>0</td><td>1</td><td>0</td><td>0</td><td>0</td><td>0</td><td>0</td><td>1</td><td>0</td><td>1</td><td>0</td></tr>\n",
       "\t<tr><th scope=row>4</th><td>4</td><td>0</td><td>0</td><td>1</td><td>0</td><td>0</td><td>0</td><td>1</td><td>1</td><td>0</td><td>0</td><td>1</td><td>0</td><td>0</td><td>1</td></tr>\n",
       "\t<tr><th scope=row>5</th><td>5</td><td>0</td><td>0</td><td>0</td><td>1</td><td>0</td><td>1</td><td>0</td><td>0</td><td>0</td><td>0</td><td>1</td><td>0</td><td>1</td><td>0</td></tr>\n",
       "\t<tr><th scope=row>6</th><td>6</td><td>0</td><td>0</td><td>1</td><td>0</td><td>1</td><td>0</td><td>0</td><td>0</td><td>0</td><td>0</td><td>0</td><td>0</td><td>0</td><td>0</td></tr>\n",
       "</tbody>\n",
       "</table>\n"
      ],
      "text/latex": [
       "A data.frame: 6 × 15\n",
       "\\begin{tabular}{r|lllllllllllllll}\n",
       "  & ID & Aspirin & BabyFood & Beer & Bread & Chips & Coffee & Diaper & IceCream & Juice & Lotion & Milk & Pretzels & Soda & Soup\\\\\n",
       "  & <dbl> & <int> & <int> & <int> & <int> & <int> & <int> & <int> & <int> & <int> & <int> & <int> & <int> & <int> & <int>\\\\\n",
       "\\hline\n",
       "\t1 & 1 & 1 & 0 & 1 & 0 & 1 & 0 & 1 & 0 & 0 & 0 & 0 & 1 & 0 & 0\\\\\n",
       "\t2 & 2 & 0 & 1 & 1 & 0 & 1 & 0 & 1 & 0 & 1 & 1 & 1 & 0 & 0 & 0\\\\\n",
       "\t3 & 3 & 0 & 0 & 0 & 0 & 1 & 0 & 0 & 0 & 0 & 0 & 1 & 0 & 1 & 0\\\\\n",
       "\t4 & 4 & 0 & 0 & 1 & 0 & 0 & 0 & 1 & 1 & 0 & 0 & 1 & 0 & 0 & 1\\\\\n",
       "\t5 & 5 & 0 & 0 & 0 & 1 & 0 & 1 & 0 & 0 & 0 & 0 & 1 & 0 & 1 & 0\\\\\n",
       "\t6 & 6 & 0 & 0 & 1 & 0 & 1 & 0 & 0 & 0 & 0 & 0 & 0 & 0 & 0 & 0\\\\\n",
       "\\end{tabular}\n"
      ],
      "text/markdown": [
       "\n",
       "A data.frame: 6 × 15\n",
       "\n",
       "| <!--/--> | ID &lt;dbl&gt; | Aspirin &lt;int&gt; | BabyFood &lt;int&gt; | Beer &lt;int&gt; | Bread &lt;int&gt; | Chips &lt;int&gt; | Coffee &lt;int&gt; | Diaper &lt;int&gt; | IceCream &lt;int&gt; | Juice &lt;int&gt; | Lotion &lt;int&gt; | Milk &lt;int&gt; | Pretzels &lt;int&gt; | Soda &lt;int&gt; | Soup &lt;int&gt; |\n",
       "|---|---|---|---|---|---|---|---|---|---|---|---|---|---|---|---|\n",
       "| 1 | 1 | 1 | 0 | 1 | 0 | 1 | 0 | 1 | 0 | 0 | 0 | 0 | 1 | 0 | 0 |\n",
       "| 2 | 2 | 0 | 1 | 1 | 0 | 1 | 0 | 1 | 0 | 1 | 1 | 1 | 0 | 0 | 0 |\n",
       "| 3 | 3 | 0 | 0 | 0 | 0 | 1 | 0 | 0 | 0 | 0 | 0 | 1 | 0 | 1 | 0 |\n",
       "| 4 | 4 | 0 | 0 | 1 | 0 | 0 | 0 | 1 | 1 | 0 | 0 | 1 | 0 | 0 | 1 |\n",
       "| 5 | 5 | 0 | 0 | 0 | 1 | 0 | 1 | 0 | 0 | 0 | 0 | 1 | 0 | 1 | 0 |\n",
       "| 6 | 6 | 0 | 0 | 1 | 0 | 1 | 0 | 0 | 0 | 0 | 0 | 0 | 0 | 0 | 0 |\n",
       "\n"
      ],
      "text/plain": [
       "  ID Aspirin BabyFood Beer Bread Chips Coffee Diaper IceCream Juice Lotion Milk\n",
       "1 1  1       0        1    0     1     0      1      0        0     0      0   \n",
       "2 2  0       1        1    0     1     0      1      0        1     1      1   \n",
       "3 3  0       0        0    0     1     0      0      0        0     0      1   \n",
       "4 4  0       0        1    0     0     0      1      1        0     0      1   \n",
       "5 5  0       0        0    1     0     1      0      0        0     0      1   \n",
       "6 6  0       0        1    0     1     0      0      0        0     0      0   \n",
       "  Pretzels Soda Soup\n",
       "1 1        0    0   \n",
       "2 0        0    0   \n",
       "3 0        1    0   \n",
       "4 0        0    1   \n",
       "5 0        1    0   \n",
       "6 0        0    0   "
      ]
     },
     "metadata": {},
     "output_type": "display_data"
    }
   ],
   "source": [
    "# 把ID欄位組回來\n",
    "retail = cbind(retail_id,retail_Basket)\n",
    "retail"
   ]
  },
  {
   "cell_type": "code",
   "execution_count": 79,
   "metadata": {},
   "outputs": [
    {
     "name": "stdout",
     "output_type": "stream",
     "text": [
      "Apriori\n",
      "\n",
      "Parameter specification:\n",
      " confidence minval smax arem  aval originalSupport maxtime support minlen\n",
      "        0.8    0.1    1 none FALSE            TRUE       5     0.5      1\n",
      " maxlen target   ext\n",
      "     10  rules FALSE\n",
      "\n",
      "Algorithmic control:\n",
      " filter tree heap memopt load sort verbose\n",
      "    0.1 TRUE TRUE  FALSE TRUE    2    TRUE\n",
      "\n",
      "Absolute minimum support count: 3 \n",
      "\n",
      "set item appearances ...[0 item(s)] done [0.00s].\n",
      "set transactions ...[14 item(s), 6 transaction(s)] done [0.00s].\n",
      "sorting and recoding items ... [4 item(s)] done [0.00s].\n",
      "creating transaction tree ... done [0.00s].\n",
      "checking subsets of size 1 2 done [0.00s].\n",
      "writing ... [1 rule(s)] done [0.00s].\n",
      "creating S4 object  ... done [0.00s].\n"
     ]
    }
   ],
   "source": [
    "#一樣先轉matrix\n",
    "frequent_itemsets_2 = apriori(as.matrix(retail[,-1]),parameter=list(support=0.5,minlen=1))"
   ]
  },
  {
   "cell_type": "code",
   "execution_count": 80,
   "metadata": {},
   "outputs": [
    {
     "name": "stdout",
     "output_type": "stream",
     "text": [
      "    lhs         rhs    support confidence lift count\n",
      "[1] {Diaper} => {Beer} 0.5     1          1.5  3    \n"
     ]
    }
   ],
   "source": [
    "inspect(frequent_itemsets_2)"
   ]
  },
  {
   "cell_type": "markdown",
   "metadata": {},
   "source": [
    "根據演算法結果，可以發現，Diaper對Beer更有影響一些。"
   ]
  },
  {
   "cell_type": "markdown",
   "metadata": {},
   "source": [
    "### 實戰演練-電影題材關聯\n",
    "資料集：[MovieLens (small)](https://grouplens.org/datasets/movielens/)"
   ]
  },
  {
   "cell_type": "code",
   "execution_count": 81,
   "metadata": {},
   "outputs": [
    {
     "data": {
      "text/html": [
       "<table>\n",
       "<caption>A data.frame: 6 × 3</caption>\n",
       "<thead>\n",
       "\t<tr><th></th><th scope=col>movieId</th><th scope=col>title</th><th scope=col>genres</th></tr>\n",
       "\t<tr><th></th><th scope=col>&lt;int&gt;</th><th scope=col>&lt;fct&gt;</th><th scope=col>&lt;fct&gt;</th></tr>\n",
       "</thead>\n",
       "<tbody>\n",
       "\t<tr><th scope=row>1</th><td>1</td><td>Toy Story (1995)                  </td><td>Adventure|Animation|Children|Comedy|Fantasy</td></tr>\n",
       "\t<tr><th scope=row>2</th><td>2</td><td>Jumanji (1995)                    </td><td>Adventure|Children|Fantasy                 </td></tr>\n",
       "\t<tr><th scope=row>3</th><td>3</td><td>Grumpier Old Men (1995)           </td><td>Comedy|Romance                             </td></tr>\n",
       "\t<tr><th scope=row>4</th><td>4</td><td>Waiting to Exhale (1995)          </td><td>Comedy|Drama|Romance                       </td></tr>\n",
       "\t<tr><th scope=row>5</th><td>5</td><td>Father of the Bride Part II (1995)</td><td>Comedy                                     </td></tr>\n",
       "\t<tr><th scope=row>6</th><td>6</td><td>Heat (1995)                       </td><td>Action|Crime|Thriller                      </td></tr>\n",
       "</tbody>\n",
       "</table>\n"
      ],
      "text/latex": [
       "A data.frame: 6 × 3\n",
       "\\begin{tabular}{r|lll}\n",
       "  & movieId & title & genres\\\\\n",
       "  & <int> & <fct> & <fct>\\\\\n",
       "\\hline\n",
       "\t1 & 1 & Toy Story (1995)                   & Adventure\\textbar{}Animation\\textbar{}Children\\textbar{}Comedy\\textbar{}Fantasy\\\\\n",
       "\t2 & 2 & Jumanji (1995)                     & Adventure\\textbar{}Children\\textbar{}Fantasy                 \\\\\n",
       "\t3 & 3 & Grumpier Old Men (1995)            & Comedy\\textbar{}Romance                             \\\\\n",
       "\t4 & 4 & Waiting to Exhale (1995)           & Comedy\\textbar{}Drama\\textbar{}Romance                       \\\\\n",
       "\t5 & 5 & Father of the Bride Part II (1995) & Comedy                                     \\\\\n",
       "\t6 & 6 & Heat (1995)                        & Action\\textbar{}Crime\\textbar{}Thriller                      \\\\\n",
       "\\end{tabular}\n"
      ],
      "text/markdown": [
       "\n",
       "A data.frame: 6 × 3\n",
       "\n",
       "| <!--/--> | movieId &lt;int&gt; | title &lt;fct&gt; | genres &lt;fct&gt; |\n",
       "|---|---|---|---|\n",
       "| 1 | 1 | Toy Story (1995)                   | Adventure|Animation|Children|Comedy|Fantasy |\n",
       "| 2 | 2 | Jumanji (1995)                     | Adventure|Children|Fantasy                  |\n",
       "| 3 | 3 | Grumpier Old Men (1995)            | Comedy|Romance                              |\n",
       "| 4 | 4 | Waiting to Exhale (1995)           | Comedy|Drama|Romance                        |\n",
       "| 5 | 5 | Father of the Bride Part II (1995) | Comedy                                      |\n",
       "| 6 | 6 | Heat (1995)                        | Action|Crime|Thriller                       |\n",
       "\n"
      ],
      "text/plain": [
       "  movieId title                             \n",
       "1 1       Toy Story (1995)                  \n",
       "2 2       Jumanji (1995)                    \n",
       "3 3       Grumpier Old Men (1995)           \n",
       "4 4       Waiting to Exhale (1995)          \n",
       "5 5       Father of the Bride Part II (1995)\n",
       "6 6       Heat (1995)                       \n",
       "  genres                                     \n",
       "1 Adventure|Animation|Children|Comedy|Fantasy\n",
       "2 Adventure|Children|Fantasy                 \n",
       "3 Comedy|Romance                             \n",
       "4 Comedy|Drama|Romance                       \n",
       "5 Comedy                                     \n",
       "6 Action|Crime|Thriller                      "
      ]
     },
     "metadata": {},
     "output_type": "display_data"
    }
   ],
   "source": [
    "movies = read.csv('movies.csv')\n",
    "head(movies)"
   ]
  },
  {
   "cell_type": "markdown",
   "metadata": {},
   "source": [
    "資料中包括電影名字與電影類型的標籤，第一步還是先轉換成one-hot，因為genres是factor，我們先轉文字再處理。"
   ]
  },
  {
   "cell_type": "code",
   "execution_count": 82,
   "metadata": {},
   "outputs": [
    {
     "data": {
      "text/html": [
       "<table>\n",
       "<caption>A data.frame: 6 × 21</caption>\n",
       "<thead>\n",
       "\t<tr><th></th><th scope=col>movieId</th><th scope=col>(no genres listed)</th><th scope=col>Action</th><th scope=col>Adventure</th><th scope=col>Animation</th><th scope=col>Children</th><th scope=col>Comedy</th><th scope=col>Crime</th><th scope=col>Documentary</th><th scope=col>Drama</th><th scope=col>...</th><th scope=col>Film-Noir</th><th scope=col>Horror</th><th scope=col>IMAX</th><th scope=col>Musical</th><th scope=col>Mystery</th><th scope=col>Romance</th><th scope=col>Sci-Fi</th><th scope=col>Thriller</th><th scope=col>War</th><th scope=col>Western</th></tr>\n",
       "\t<tr><th></th><th scope=col>&lt;int&gt;</th><th scope=col>&lt;int&gt;</th><th scope=col>&lt;int&gt;</th><th scope=col>&lt;int&gt;</th><th scope=col>&lt;int&gt;</th><th scope=col>&lt;int&gt;</th><th scope=col>&lt;int&gt;</th><th scope=col>&lt;int&gt;</th><th scope=col>&lt;int&gt;</th><th scope=col>&lt;int&gt;</th><th scope=col>...</th><th scope=col>&lt;int&gt;</th><th scope=col>&lt;int&gt;</th><th scope=col>&lt;int&gt;</th><th scope=col>&lt;int&gt;</th><th scope=col>&lt;int&gt;</th><th scope=col>&lt;int&gt;</th><th scope=col>&lt;int&gt;</th><th scope=col>&lt;int&gt;</th><th scope=col>&lt;int&gt;</th><th scope=col>&lt;int&gt;</th></tr>\n",
       "</thead>\n",
       "<tbody>\n",
       "\t<tr><th scope=row>1</th><td>1</td><td>0</td><td>0</td><td>1</td><td>1</td><td>1</td><td>1</td><td>0</td><td>0</td><td>0</td><td>...</td><td>0</td><td>0</td><td>0</td><td>0</td><td>0</td><td>0</td><td>0</td><td>0</td><td>0</td><td>0</td></tr>\n",
       "\t<tr><th scope=row>2</th><td>2</td><td>0</td><td>0</td><td>1</td><td>0</td><td>1</td><td>0</td><td>0</td><td>0</td><td>0</td><td>...</td><td>0</td><td>0</td><td>0</td><td>0</td><td>0</td><td>0</td><td>0</td><td>0</td><td>0</td><td>0</td></tr>\n",
       "\t<tr><th scope=row>3</th><td>3</td><td>0</td><td>0</td><td>0</td><td>0</td><td>0</td><td>1</td><td>0</td><td>0</td><td>0</td><td>...</td><td>0</td><td>0</td><td>0</td><td>0</td><td>0</td><td>1</td><td>0</td><td>0</td><td>0</td><td>0</td></tr>\n",
       "\t<tr><th scope=row>4</th><td>4</td><td>0</td><td>0</td><td>0</td><td>0</td><td>0</td><td>1</td><td>0</td><td>0</td><td>1</td><td>...</td><td>0</td><td>0</td><td>0</td><td>0</td><td>0</td><td>1</td><td>0</td><td>0</td><td>0</td><td>0</td></tr>\n",
       "\t<tr><th scope=row>5</th><td>5</td><td>0</td><td>0</td><td>0</td><td>0</td><td>0</td><td>1</td><td>0</td><td>0</td><td>0</td><td>...</td><td>0</td><td>0</td><td>0</td><td>0</td><td>0</td><td>0</td><td>0</td><td>0</td><td>0</td><td>0</td></tr>\n",
       "\t<tr><th scope=row>6</th><td>6</td><td>0</td><td>1</td><td>0</td><td>0</td><td>0</td><td>0</td><td>1</td><td>0</td><td>0</td><td>...</td><td>0</td><td>0</td><td>0</td><td>0</td><td>0</td><td>0</td><td>0</td><td>1</td><td>0</td><td>0</td></tr>\n",
       "</tbody>\n",
       "</table>\n"
      ],
      "text/latex": [
       "A data.frame: 6 × 21\n",
       "\\begin{tabular}{r|lllllllllllllllllllll}\n",
       "  & movieId & (no genres listed) & Action & Adventure & Animation & Children & Comedy & Crime & Documentary & Drama & ... & Film-Noir & Horror & IMAX & Musical & Mystery & Romance & Sci-Fi & Thriller & War & Western\\\\\n",
       "  & <int> & <int> & <int> & <int> & <int> & <int> & <int> & <int> & <int> & <int> & ... & <int> & <int> & <int> & <int> & <int> & <int> & <int> & <int> & <int> & <int>\\\\\n",
       "\\hline\n",
       "\t1 & 1 & 0 & 0 & 1 & 1 & 1 & 1 & 0 & 0 & 0 & ... & 0 & 0 & 0 & 0 & 0 & 0 & 0 & 0 & 0 & 0\\\\\n",
       "\t2 & 2 & 0 & 0 & 1 & 0 & 1 & 0 & 0 & 0 & 0 & ... & 0 & 0 & 0 & 0 & 0 & 0 & 0 & 0 & 0 & 0\\\\\n",
       "\t3 & 3 & 0 & 0 & 0 & 0 & 0 & 1 & 0 & 0 & 0 & ... & 0 & 0 & 0 & 0 & 0 & 1 & 0 & 0 & 0 & 0\\\\\n",
       "\t4 & 4 & 0 & 0 & 0 & 0 & 0 & 1 & 0 & 0 & 1 & ... & 0 & 0 & 0 & 0 & 0 & 1 & 0 & 0 & 0 & 0\\\\\n",
       "\t5 & 5 & 0 & 0 & 0 & 0 & 0 & 1 & 0 & 0 & 0 & ... & 0 & 0 & 0 & 0 & 0 & 0 & 0 & 0 & 0 & 0\\\\\n",
       "\t6 & 6 & 0 & 1 & 0 & 0 & 0 & 0 & 1 & 0 & 0 & ... & 0 & 0 & 0 & 0 & 0 & 0 & 0 & 1 & 0 & 0\\\\\n",
       "\\end{tabular}\n"
      ],
      "text/markdown": [
       "\n",
       "A data.frame: 6 × 21\n",
       "\n",
       "| <!--/--> | movieId &lt;int&gt; | (no genres listed) &lt;int&gt; | Action &lt;int&gt; | Adventure &lt;int&gt; | Animation &lt;int&gt; | Children &lt;int&gt; | Comedy &lt;int&gt; | Crime &lt;int&gt; | Documentary &lt;int&gt; | Drama &lt;int&gt; | ... ... | Film-Noir &lt;int&gt; | Horror &lt;int&gt; | IMAX &lt;int&gt; | Musical &lt;int&gt; | Mystery &lt;int&gt; | Romance &lt;int&gt; | Sci-Fi &lt;int&gt; | Thriller &lt;int&gt; | War &lt;int&gt; | Western &lt;int&gt; |\n",
       "|---|---|---|---|---|---|---|---|---|---|---|---|---|---|---|---|---|---|---|---|---|---|\n",
       "| 1 | 1 | 0 | 0 | 1 | 1 | 1 | 1 | 0 | 0 | 0 | ... | 0 | 0 | 0 | 0 | 0 | 0 | 0 | 0 | 0 | 0 |\n",
       "| 2 | 2 | 0 | 0 | 1 | 0 | 1 | 0 | 0 | 0 | 0 | ... | 0 | 0 | 0 | 0 | 0 | 0 | 0 | 0 | 0 | 0 |\n",
       "| 3 | 3 | 0 | 0 | 0 | 0 | 0 | 1 | 0 | 0 | 0 | ... | 0 | 0 | 0 | 0 | 0 | 1 | 0 | 0 | 0 | 0 |\n",
       "| 4 | 4 | 0 | 0 | 0 | 0 | 0 | 1 | 0 | 0 | 1 | ... | 0 | 0 | 0 | 0 | 0 | 1 | 0 | 0 | 0 | 0 |\n",
       "| 5 | 5 | 0 | 0 | 0 | 0 | 0 | 1 | 0 | 0 | 0 | ... | 0 | 0 | 0 | 0 | 0 | 0 | 0 | 0 | 0 | 0 |\n",
       "| 6 | 6 | 0 | 1 | 0 | 0 | 0 | 0 | 1 | 0 | 0 | ... | 0 | 0 | 0 | 0 | 0 | 0 | 0 | 1 | 0 | 0 |\n",
       "\n"
      ],
      "text/plain": [
       "  movieId (no genres listed) Action Adventure Animation Children Comedy Crime\n",
       "1 1       0                  0      1         1         1        1      0    \n",
       "2 2       0                  0      1         0         1        0      0    \n",
       "3 3       0                  0      0         0         0        1      0    \n",
       "4 4       0                  0      0         0         0        1      0    \n",
       "5 5       0                  0      0         0         0        1      0    \n",
       "6 6       0                  1      0         0         0        0      1    \n",
       "  Documentary Drama ... Film-Noir Horror IMAX Musical Mystery Romance Sci-Fi\n",
       "1 0           0     ... 0         0      0    0       0       0       0     \n",
       "2 0           0     ... 0         0      0    0       0       0       0     \n",
       "3 0           0     ... 0         0      0    0       0       1       0     \n",
       "4 0           1     ... 0         0      0    0       0       1       0     \n",
       "5 0           0     ... 0         0      0    0       0       0       0     \n",
       "6 0           0     ... 0         0      0    0       0       0       0     \n",
       "  Thriller War Western\n",
       "1 0        0   0      \n",
       "2 0        0   0      \n",
       "3 0        0   0      \n",
       "4 0        0   0      \n",
       "5 0        0   0      \n",
       "6 1        0   0      "
      ]
     },
     "metadata": {},
     "output_type": "display_data"
    }
   ],
   "source": [
    "movies_one = mtabulate(strsplit(as.character(movies$genres), \"|\",fixed = TRUE))\n",
    "movies_one = cbind(movieId = movies$movieId,movies_one)\n",
    "head(movies_one)"
   ]
  },
  {
   "cell_type": "code",
   "execution_count": 83,
   "metadata": {},
   "outputs": [
    {
     "data": {
      "text/html": [
       "<style>\n",
       ".list-inline {list-style: none; margin:0; padding: 0}\n",
       ".list-inline>li {display: inline-block}\n",
       ".list-inline>li:not(:last-child)::after {content: \"\\00b7\"; padding: 0 .5ex}\n",
       "</style>\n",
       "<ol class=list-inline><li>9125</li><li>21</li></ol>\n"
      ],
      "text/latex": [
       "\\begin{enumerate*}\n",
       "\\item 9125\n",
       "\\item 21\n",
       "\\end{enumerate*}\n"
      ],
      "text/markdown": [
       "1. 9125\n",
       "2. 21\n",
       "\n",
       "\n"
      ],
      "text/plain": [
       "[1] 9125   21"
      ]
     },
     "metadata": {},
     "output_type": "display_data"
    }
   ],
   "source": [
    "dim(movies_one)"
   ]
  },
  {
   "cell_type": "markdown",
   "metadata": {},
   "source": [
    "資料集包括9125部電影，一共有20種不同類型。"
   ]
  },
  {
   "cell_type": "code",
   "execution_count": 84,
   "metadata": {},
   "outputs": [
    {
     "name": "stdout",
     "output_type": "stream",
     "text": [
      "Apriori\n",
      "\n",
      "Parameter specification:\n",
      " confidence minval smax arem  aval originalSupport maxtime support minlen\n",
      "        0.4    0.1    1 none FALSE            TRUE       5   0.025      2\n",
      " maxlen target   ext\n",
      "     10  rules FALSE\n",
      "\n",
      "Algorithmic control:\n",
      " filter tree heap memopt load sort verbose\n",
      "    0.1 TRUE TRUE  FALSE TRUE    2    TRUE\n",
      "\n",
      "Absolute minimum support count: 228 \n",
      "\n",
      "set item appearances ...[0 item(s)] done [0.00s].\n",
      "set transactions ...[20 item(s), 9125 transaction(s)] done [0.00s].\n",
      "sorting and recoding items ... [16 item(s)] done [0.00s].\n",
      "creating transaction tree ... done [0.00s].\n",
      "checking subsets of size 1 2 3 done [0.00s].\n",
      "writing ... [18 rule(s)] done [0.00s].\n",
      "creating S4 object  ... done [0.00s].\n"
     ]
    }
   ],
   "source": [
    "# 實務上min_support會根據樣本數量、項集數量去預估，通常不會設定太高，不然會跑不出結果\n",
    "frequent_itemsets_movies = apriori(as.matrix(movies_one[,-1]),parameter=list(support=0.025,confidence=0.4,minlen=2))"
   ]
  },
  {
   "cell_type": "code",
   "execution_count": 85,
   "metadata": {},
   "outputs": [
    {
     "name": "stdout",
     "output_type": "stream",
     "text": [
      "     lhs                 rhs         support    confidence lift      count\n",
      "[1]  {War}            => {Drama}     0.03101370 0.7711172  1.6120147 283  \n",
      "[2]  {Animation}      => {Children}  0.02706849 0.5525727  8.6487581 247  \n",
      "[3]  {Children}       => {Animation} 0.02706849 0.4236707  8.6487581 247  \n",
      "[4]  {Mystery}        => {Thriller}  0.03605479 0.6058932  3.1976723 329  \n",
      "[5]  {Mystery}        => {Drama}     0.03167123 0.5322284  1.1126194 289  \n",
      "[6]  {Children}       => {Adventure} 0.02926027 0.4579760  3.7412989 267  \n",
      "[7]  {Children}       => {Comedy}    0.03287671 0.5145798  1.4164526 300  \n",
      "[8]  {Horror}         => {Thriller}  0.04339726 0.4515393  2.3830517 396  \n",
      "[9]  {Fantasy}        => {Adventure} 0.03068493 0.4281346  3.4975182 280  \n",
      "[10] {Sci-Fi}         => {Action}    0.04098630 0.4722222  2.7890147 374  \n",
      "[11] {Crime}          => {Thriller}  0.05786301 0.4800000  2.5332562 528  \n",
      "[12] {Crime}          => {Drama}     0.06761644 0.5609091  1.1725763 617  \n",
      "[13] {Adventure}      => {Action}    0.05830137 0.4762757  2.8129554 532  \n",
      "[14] {Romance}        => {Comedy}    0.09008219 0.5320388  1.4645111 822  \n",
      "[15] {Romance}        => {Drama}     0.10126027 0.5980583  1.2502363 924  \n",
      "[16] {Thriller}       => {Drama}     0.08712329 0.4598034  0.9612155 795  \n",
      "[17] {Crime,Thriller} => {Drama}     0.03200000 0.5530303  1.1561057 292  \n",
      "[18] {Crime,Drama}    => {Thriller}  0.03200000 0.4732577  2.4976729 292  \n"
     ]
    }
   ],
   "source": [
    "inspect(frequent_itemsets_movies)"
   ]
  },
  {
   "cell_type": "code",
   "execution_count": 86,
   "metadata": {},
   "outputs": [
    {
     "name": "stdout",
     "output_type": "stream",
     "text": [
      "    lhs           rhs         support    confidence lift     count\n",
      "[1] {Children} => {Animation} 0.02706849 0.4236707  8.648758 247  \n",
      "[2] {Children} => {Adventure} 0.02926027 0.4579760  3.741299 267  \n",
      "[3] {Children} => {Comedy}    0.03287671 0.5145798  1.416453 300  \n"
     ]
    }
   ],
   "source": [
    "# 找出給小孩題材相關電影\n",
    "rules_movies = subset(frequent_itemsets_movies, lhs %pin% \"Children\")\n",
    "inspect(rules_movies)"
   ]
  },
  {
   "cell_type": "markdown",
   "metadata": {},
   "source": [
    "Children和Animation 這兩個題材是最相關的了，其實滿符合現實常識。再來是冒險類型，相關性高也滿好理解。最後一項是Comedy喜劇，雖然有相關，但跟其他比起來相關性就沒這麼高。"
   ]
  },
  {
   "cell_type": "code",
   "execution_count": null,
   "metadata": {},
   "outputs": [],
   "source": []
  },
  {
   "cell_type": "code",
   "execution_count": null,
   "metadata": {},
   "outputs": [],
   "source": []
  }
 ],
 "metadata": {
  "kernelspec": {
   "display_name": "R",
   "language": "R",
   "name": "ir"
  },
  "language_info": {
   "codemirror_mode": "r",
   "file_extension": ".r",
   "mimetype": "text/x-r-source",
   "name": "R",
   "pygments_lexer": "r",
   "version": "3.6.1"
  }
 },
 "nbformat": 4,
 "nbformat_minor": 4
}

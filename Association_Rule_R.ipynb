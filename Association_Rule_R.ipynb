{
 "cells": [
  {
   "cell_type": "markdown",
   "metadata": {},
   "source": [
    "# Association_Rule 關聯規則\n",
    "- 以下使用R3.6\n",
    "- 使用arules套件 install.packages(\"arules\")"
   ]
  },
  {
   "cell_type": "code",
   "execution_count": 3,
   "metadata": {},
   "outputs": [],
   "source": [
    "library(\"arules\")"
   ]
  },
  {
   "cell_type": "markdown",
   "metadata": {},
   "source": [
    "自定義一份資料集"
   ]
  },
  {
   "cell_type": "code",
   "execution_count": 10,
   "metadata": {},
   "outputs": [],
   "source": [
    "df = data.frame(ID=c(1,2,3,4,5,6),\n",
    "                  Onion=c(1,0,0,1,1,1),\n",
    "                  Potato=c(1,1,0,1,1,1),\n",
    "                  Burger=c(1,1,0,0,1,1),\n",
    "                  Milk=c(0,1,1,1,0,1),\n",
    "                  Beer=c(0,0,1,0,1,0))"
   ]
  },
  {
   "cell_type": "code",
   "execution_count": 11,
   "metadata": {},
   "outputs": [
    {
     "data": {
      "text/html": [
       "<table>\n",
       "<caption>A data.frame: 6 × 6</caption>\n",
       "<thead>\n",
       "\t<tr><th scope=col>ID</th><th scope=col>Onion</th><th scope=col>Potato</th><th scope=col>Burger</th><th scope=col>Milk</th><th scope=col>Beer</th></tr>\n",
       "\t<tr><th scope=col>&lt;dbl&gt;</th><th scope=col>&lt;dbl&gt;</th><th scope=col>&lt;dbl&gt;</th><th scope=col>&lt;dbl&gt;</th><th scope=col>&lt;dbl&gt;</th><th scope=col>&lt;dbl&gt;</th></tr>\n",
       "</thead>\n",
       "<tbody>\n",
       "\t<tr><td>1</td><td>1</td><td>1</td><td>1</td><td>0</td><td>0</td></tr>\n",
       "\t<tr><td>2</td><td>0</td><td>1</td><td>1</td><td>1</td><td>0</td></tr>\n",
       "\t<tr><td>3</td><td>0</td><td>0</td><td>0</td><td>1</td><td>1</td></tr>\n",
       "\t<tr><td>4</td><td>1</td><td>1</td><td>0</td><td>1</td><td>0</td></tr>\n",
       "\t<tr><td>5</td><td>1</td><td>1</td><td>1</td><td>0</td><td>1</td></tr>\n",
       "\t<tr><td>6</td><td>1</td><td>1</td><td>1</td><td>1</td><td>0</td></tr>\n",
       "</tbody>\n",
       "</table>\n"
      ],
      "text/latex": [
       "A data.frame: 6 × 6\n",
       "\\begin{tabular}{llllll}\n",
       " ID & Onion & Potato & Burger & Milk & Beer\\\\\n",
       " <dbl> & <dbl> & <dbl> & <dbl> & <dbl> & <dbl>\\\\\n",
       "\\hline\n",
       "\t 1 & 1 & 1 & 1 & 0 & 0\\\\\n",
       "\t 2 & 0 & 1 & 1 & 1 & 0\\\\\n",
       "\t 3 & 0 & 0 & 0 & 1 & 1\\\\\n",
       "\t 4 & 1 & 1 & 0 & 1 & 0\\\\\n",
       "\t 5 & 1 & 1 & 1 & 0 & 1\\\\\n",
       "\t 6 & 1 & 1 & 1 & 1 & 0\\\\\n",
       "\\end{tabular}\n"
      ],
      "text/markdown": [
       "\n",
       "A data.frame: 6 × 6\n",
       "\n",
       "| ID &lt;dbl&gt; | Onion &lt;dbl&gt; | Potato &lt;dbl&gt; | Burger &lt;dbl&gt; | Milk &lt;dbl&gt; | Beer &lt;dbl&gt; |\n",
       "|---|---|---|---|---|---|\n",
       "| 1 | 1 | 1 | 1 | 0 | 0 |\n",
       "| 2 | 0 | 1 | 1 | 1 | 0 |\n",
       "| 3 | 0 | 0 | 0 | 1 | 1 |\n",
       "| 4 | 1 | 1 | 0 | 1 | 0 |\n",
       "| 5 | 1 | 1 | 1 | 0 | 1 |\n",
       "| 6 | 1 | 1 | 1 | 1 | 0 |\n",
       "\n"
      ],
      "text/plain": [
       "  ID Onion Potato Burger Milk Beer\n",
       "1 1  1     1      1      0    0   \n",
       "2 2  0     1      1      1    0   \n",
       "3 3  0     0      0      1    1   \n",
       "4 4  1     1      0      1    0   \n",
       "5 5  1     1      1      0    1   \n",
       "6 6  1     1      1      1    0   "
      ]
     },
     "metadata": {},
     "output_type": "display_data"
    }
   ],
   "source": [
    "df"
   ]
  },
  {
   "cell_type": "markdown",
   "metadata": {},
   "source": [
    "### 設置支持度來篩選頻繁項集\n",
    "- apriori(df,parameter=list(support=0.5,minlen=2))\n",
    "- 上面選擇最小支持度為50%，實務上會根據樣本量及資料特性設定"
   ]
  },
  {
   "cell_type": "code",
   "execution_count": 22,
   "metadata": {},
   "outputs": [
    {
     "name": "stdout",
     "output_type": "stream",
     "text": [
      "Apriori\n",
      "\n",
      "Parameter specification:\n",
      " confidence minval smax arem  aval originalSupport maxtime support minlen\n",
      "        0.8    0.1    1 none FALSE            TRUE       5     0.5      2\n",
      " maxlen target   ext\n",
      "     10  rules FALSE\n",
      "\n",
      "Algorithmic control:\n",
      " filter tree heap memopt load sort verbose\n",
      "    0.1 TRUE TRUE  FALSE TRUE    2    TRUE\n",
      "\n",
      "Absolute minimum support count: 3 \n",
      "\n",
      "set item appearances ...[0 item(s)] done [0.00s].\n",
      "set transactions ...[10 item(s), 6 transaction(s)] done [0.00s].\n",
      "sorting and recoding items ... [5 item(s)] done [0.00s].\n",
      "creating transaction tree ... done [0.00s].\n",
      "checking subsets of size 1 2 3 done [0.00s].\n",
      "writing ... [11 rule(s)] done [0.00s].\n",
      "creating S4 object  ... done [0.00s].\n"
     ]
    }
   ],
   "source": [
    "# R需要將項集轉為logical或factor才可以計算，以下轉為factor\n",
    "df[] = lapply(df,factor)\n",
    "frequent_itemsets = apriori(df[c('Onion', 'Potato', 'Burger', 'Milk', 'Beer')],parameter=list(support=0.5,minlen=2))"
   ]
  },
  {
   "cell_type": "code",
   "execution_count": 23,
   "metadata": {},
   "outputs": [
    {
     "name": "stdout",
     "output_type": "stream",
     "text": [
      "     lhs                   rhs        support   confidence lift count\n",
      "[1]  {Onion=1}          => {Potato=1} 0.6666667 1.0        1.2  4    \n",
      "[2]  {Potato=1}         => {Onion=1}  0.6666667 0.8        1.2  4    \n",
      "[3]  {Burger=1}         => {Potato=1} 0.6666667 1.0        1.2  4    \n",
      "[4]  {Potato=1}         => {Burger=1} 0.6666667 0.8        1.2  4    \n",
      "[5]  {Beer=0}           => {Potato=1} 0.6666667 1.0        1.2  4    \n",
      "[6]  {Potato=1}         => {Beer=0}   0.6666667 0.8        1.2  4    \n",
      "[7]  {Onion=1,Burger=1} => {Potato=1} 0.5000000 1.0        1.2  3    \n",
      "[8]  {Onion=1,Beer=0}   => {Potato=1} 0.5000000 1.0        1.2  3    \n",
      "[9]  {Burger=1,Beer=0}  => {Potato=1} 0.5000000 1.0        1.2  3    \n",
      "[10] {Milk=1,Beer=0}    => {Potato=1} 0.5000000 1.0        1.2  3    \n",
      "[11] {Potato=1,Milk=1}  => {Beer=0}   0.5000000 1.0        1.5  3    \n"
     ]
    }
   ],
   "source": [
    "# R要使用inspect語法顯示結果\n",
    "inspect(frequent_itemsets)"
   ]
  },
  {
   "cell_type": "code",
   "execution_count": 26,
   "metadata": {},
   "outputs": [
    {
     "name": "stdout",
     "output_type": "stream",
     "text": [
      "     lhs                   rhs        support   confidence lift count\n",
      "[1]  {Potato=1,Milk=1}  => {Beer=0}   0.5000000 1.0        1.5  3    \n",
      "[2]  {Potato=1}         => {Onion=1}  0.6666667 0.8        1.2  4    \n",
      "[3]  {Potato=1}         => {Burger=1} 0.6666667 0.8        1.2  4    \n",
      "[4]  {Potato=1}         => {Beer=0}   0.6666667 0.8        1.2  4    \n",
      "[5]  {Onion=1}          => {Potato=1} 0.6666667 1.0        1.2  4    \n",
      "[6]  {Burger=1}         => {Potato=1} 0.6666667 1.0        1.2  4    \n",
      "[7]  {Beer=0}           => {Potato=1} 0.6666667 1.0        1.2  4    \n",
      "[8]  {Onion=1,Burger=1} => {Potato=1} 0.5000000 1.0        1.2  3    \n",
      "[9]  {Onion=1,Beer=0}   => {Potato=1} 0.5000000 1.0        1.2  3    \n",
      "[10] {Burger=1,Beer=0}  => {Potato=1} 0.5000000 1.0        1.2  3    \n",
      "[11] {Milk=1,Beer=0}    => {Potato=1} 0.5000000 1.0        1.2  3    \n"
     ]
    }
   ],
   "source": [
    "# 將結果排序，找出lift值最相關者\n",
    "sort.rule = sort(frequent_itemsets, by=c(\"lift\"))\n",
    "inspect(sort.rule)"
   ]
  },
  {
   "cell_type": "markdown",
   "metadata": {},
   "source": [
    "返回的是各個的指標的數值，可以按照感興趣的指標排序觀察,但具體解釋還得參考實際數據的含義。"
   ]
  },
  {
   "cell_type": "code",
   "execution_count": 27,
   "metadata": {},
   "outputs": [
    {
     "name": "stdout",
     "output_type": "stream",
     "text": [
      "    lhs                   rhs        support   confidence lift count\n",
      "[1] {Onion=1}          => {Potato=1} 0.6666667 1          1.2  4    \n",
      "[2] {Burger=1}         => {Potato=1} 0.6666667 1          1.2  4    \n",
      "[3] {Beer=0}           => {Potato=1} 0.6666667 1          1.2  4    \n",
      "[4] {Onion=1,Burger=1} => {Potato=1} 0.5000000 1          1.2  3    \n",
      "[5] {Onion=1,Beer=0}   => {Potato=1} 0.5000000 1          1.2  3    \n",
      "[6] {Burger=1,Beer=0}  => {Potato=1} 0.5000000 1          1.2  3    \n",
      "[7] {Milk=1,Beer=0}    => {Potato=1} 0.5000000 1          1.2  3    \n",
      "[8] {Potato=1,Milk=1}  => {Beer=0}   0.5000000 1          1.5  3    \n"
     ]
    }
   ],
   "source": [
    "rules.sub <- subset(frequent_itemsets, subset = lift > 1.125 & confidence > 0.8)\n",
    "inspect(rules.sub)"
   ]
  },
  {
   "cell_type": "markdown",
   "metadata": {},
   "source": [
    "得到幾條比較有價值的結果：\n",
    "- (洋蔥和馬鈴薯)、(漢堡和馬鈴薯)可以搭配著來賣\n",
    "- 如果洋蔥和漢堡都在購物籃中, 顧客買馬鈴薯的可能性也滿高的，如果他籃子裡面沒有，可以推薦一下."
   ]
  },
  {
   "cell_type": "markdown",
   "metadata": {},
   "source": [
    "### one-hot-encoding 編碼轉換\n",
    "- 實務資料通常需要轉換成 one hot encoding\n",
    "- 下面以逗號分隔的文字資料，為範例演練"
   ]
  },
  {
   "cell_type": "code",
   "execution_count": 50,
   "metadata": {},
   "outputs": [
    {
     "data": {
      "text/html": [
       "<table>\n",
       "<caption>A data.frame: 6 × 2</caption>\n",
       "<thead>\n",
       "\t<tr><th></th><th scope=col>ID</th><th scope=col>Basket</th></tr>\n",
       "\t<tr><th></th><th scope=col>&lt;dbl&gt;</th><th scope=col>&lt;chr&gt;</th></tr>\n",
       "</thead>\n",
       "<tbody>\n",
       "\t<tr><th scope=row>1</th><td>1</td><td>'Beer','Diaper','Pretzels','Chips','Aspirin'              </td></tr>\n",
       "\t<tr><th scope=row>2</th><td>2</td><td>'Diaper','Beer','Chips','Lotion','Juice','BabyFood','Milk'</td></tr>\n",
       "\t<tr><th scope=row>3</th><td>3</td><td>'Soda','Chips','Milk'                                     </td></tr>\n",
       "\t<tr><th scope=row>4</th><td>4</td><td>'Soup','Beer','Diaper','Milk','IceCream'                  </td></tr>\n",
       "\t<tr><th scope=row>5</th><td>5</td><td>'Soda','Coffee','Milk','Bread'                            </td></tr>\n",
       "\t<tr><th scope=row>6</th><td>6</td><td>'Beer','Chips'                                            </td></tr>\n",
       "</tbody>\n",
       "</table>\n"
      ],
      "text/latex": [
       "A data.frame: 6 × 2\n",
       "\\begin{tabular}{r|ll}\n",
       "  & ID & Basket\\\\\n",
       "  & <dbl> & <chr>\\\\\n",
       "\\hline\n",
       "\t1 & 1 & 'Beer','Diaper','Pretzels','Chips','Aspirin'              \\\\\n",
       "\t2 & 2 & 'Diaper','Beer','Chips','Lotion','Juice','BabyFood','Milk'\\\\\n",
       "\t3 & 3 & 'Soda','Chips','Milk'                                     \\\\\n",
       "\t4 & 4 & 'Soup','Beer','Diaper','Milk','IceCream'                  \\\\\n",
       "\t5 & 5 & 'Soda','Coffee','Milk','Bread'                            \\\\\n",
       "\t6 & 6 & 'Beer','Chips'                                            \\\\\n",
       "\\end{tabular}\n"
      ],
      "text/markdown": [
       "\n",
       "A data.frame: 6 × 2\n",
       "\n",
       "| <!--/--> | ID &lt;dbl&gt; | Basket &lt;chr&gt; |\n",
       "|---|---|---|\n",
       "| 1 | 1 | 'Beer','Diaper','Pretzels','Chips','Aspirin'               |\n",
       "| 2 | 2 | 'Diaper','Beer','Chips','Lotion','Juice','BabyFood','Milk' |\n",
       "| 3 | 3 | 'Soda','Chips','Milk'                                      |\n",
       "| 4 | 4 | 'Soup','Beer','Diaper','Milk','IceCream'                   |\n",
       "| 5 | 5 | 'Soda','Coffee','Milk','Bread'                             |\n",
       "| 6 | 6 | 'Beer','Chips'                                             |\n",
       "\n"
      ],
      "text/plain": [
       "  ID Basket                                                    \n",
       "1 1  'Beer','Diaper','Pretzels','Chips','Aspirin'              \n",
       "2 2  'Diaper','Beer','Chips','Lotion','Juice','BabyFood','Milk'\n",
       "3 3  'Soda','Chips','Milk'                                     \n",
       "4 4  'Soup','Beer','Diaper','Milk','IceCream'                  \n",
       "5 5  'Soda','Coffee','Milk','Bread'                            \n",
       "6 6  'Beer','Chips'                                            "
      ]
     },
     "metadata": {},
     "output_type": "display_data"
    }
   ],
   "source": [
    "retail = structure(list(ID=c(1,2,3,4,5,6),\n",
    "                                        Basket=c(\"'Beer','Diaper','Pretzels','Chips','Aspirin'\",\n",
    "                                                 \"'Diaper','Beer','Chips','Lotion','Juice','BabyFood','Milk'\",\n",
    "                                                 \"'Soda','Chips','Milk'\",\n",
    "                                                 \"'Soup','Beer','Diaper','Milk','IceCream'\",\n",
    "                                                 \"'Soda','Coffee','Milk','Bread'\",\n",
    "                                                 \"'Beer','Chips'\")),\n",
    "                                   row.names = c(NA, 6),\n",
    "                                   class = \"data.frame\")\n",
    "retail"
   ]
  },
  {
   "cell_type": "code",
   "execution_count": 51,
   "metadata": {},
   "outputs": [
    {
     "data": {
      "text/html": [
       "<table>\n",
       "<caption>A data.frame: 6 × 1</caption>\n",
       "<thead>\n",
       "\t<tr><th></th><th scope=col>ID</th></tr>\n",
       "\t<tr><th></th><th scope=col>&lt;dbl&gt;</th></tr>\n",
       "</thead>\n",
       "<tbody>\n",
       "\t<tr><th scope=row>1</th><td>1</td></tr>\n",
       "\t<tr><th scope=row>2</th><td>2</td></tr>\n",
       "\t<tr><th scope=row>3</th><td>3</td></tr>\n",
       "\t<tr><th scope=row>4</th><td>4</td></tr>\n",
       "\t<tr><th scope=row>5</th><td>5</td></tr>\n",
       "\t<tr><th scope=row>6</th><td>6</td></tr>\n",
       "</tbody>\n",
       "</table>\n"
      ],
      "text/latex": [
       "A data.frame: 6 × 1\n",
       "\\begin{tabular}{r|l}\n",
       "  & ID\\\\\n",
       "  & <dbl>\\\\\n",
       "\\hline\n",
       "\t1 & 1\\\\\n",
       "\t2 & 2\\\\\n",
       "\t3 & 3\\\\\n",
       "\t4 & 4\\\\\n",
       "\t5 & 5\\\\\n",
       "\t6 & 6\\\\\n",
       "\\end{tabular}\n"
      ],
      "text/markdown": [
       "\n",
       "A data.frame: 6 × 1\n",
       "\n",
       "| <!--/--> | ID &lt;dbl&gt; |\n",
       "|---|---|\n",
       "| 1 | 1 |\n",
       "| 2 | 2 |\n",
       "| 3 | 3 |\n",
       "| 4 | 4 |\n",
       "| 5 | 5 |\n",
       "| 6 | 6 |\n",
       "\n"
      ],
      "text/plain": [
       "  ID\n",
       "1 1 \n",
       "2 2 \n",
       "3 3 \n",
       "4 4 \n",
       "5 5 \n",
       "6 6 "
      ]
     },
     "metadata": {},
     "output_type": "display_data"
    }
   ],
   "source": [
    "# 先把ID欄位抽出來\n",
    "retail_id = retail['ID']\n",
    "retail_id"
   ]
  },
  {
   "cell_type": "code",
   "execution_count": 52,
   "metadata": {},
   "outputs": [
    {
     "data": {
      "text/html": [
       "<table>\n",
       "<caption>A data.frame: 6 × 14</caption>\n",
       "<thead>\n",
       "\t<tr><th scope=col>Aspirin</th><th scope=col>BabyFood</th><th scope=col>Beer</th><th scope=col>Bread</th><th scope=col>Chips</th><th scope=col>Coffee</th><th scope=col>Diaper</th><th scope=col>IceCream</th><th scope=col>Juice</th><th scope=col>Lotion</th><th scope=col>Milk</th><th scope=col>Pretzels</th><th scope=col>Soda</th><th scope=col>Soup</th></tr>\n",
       "\t<tr><th scope=col>&lt;int&gt;</th><th scope=col>&lt;int&gt;</th><th scope=col>&lt;int&gt;</th><th scope=col>&lt;int&gt;</th><th scope=col>&lt;int&gt;</th><th scope=col>&lt;int&gt;</th><th scope=col>&lt;int&gt;</th><th scope=col>&lt;int&gt;</th><th scope=col>&lt;int&gt;</th><th scope=col>&lt;int&gt;</th><th scope=col>&lt;int&gt;</th><th scope=col>&lt;int&gt;</th><th scope=col>&lt;int&gt;</th><th scope=col>&lt;int&gt;</th></tr>\n",
       "</thead>\n",
       "<tbody>\n",
       "\t<tr><td>1</td><td>0</td><td>1</td><td>0</td><td>1</td><td>0</td><td>1</td><td>0</td><td>0</td><td>0</td><td>0</td><td>1</td><td>0</td><td>0</td></tr>\n",
       "\t<tr><td>0</td><td>1</td><td>1</td><td>0</td><td>1</td><td>0</td><td>1</td><td>0</td><td>1</td><td>1</td><td>1</td><td>0</td><td>0</td><td>0</td></tr>\n",
       "\t<tr><td>0</td><td>0</td><td>0</td><td>0</td><td>1</td><td>0</td><td>0</td><td>0</td><td>0</td><td>0</td><td>1</td><td>0</td><td>1</td><td>0</td></tr>\n",
       "\t<tr><td>0</td><td>0</td><td>1</td><td>0</td><td>0</td><td>0</td><td>1</td><td>1</td><td>0</td><td>0</td><td>1</td><td>0</td><td>0</td><td>1</td></tr>\n",
       "\t<tr><td>0</td><td>0</td><td>0</td><td>1</td><td>0</td><td>1</td><td>0</td><td>0</td><td>0</td><td>0</td><td>1</td><td>0</td><td>1</td><td>0</td></tr>\n",
       "\t<tr><td>0</td><td>0</td><td>1</td><td>0</td><td>1</td><td>0</td><td>0</td><td>0</td><td>0</td><td>0</td><td>0</td><td>0</td><td>0</td><td>0</td></tr>\n",
       "</tbody>\n",
       "</table>\n"
      ],
      "text/latex": [
       "A data.frame: 6 × 14\n",
       "\\begin{tabular}{llllllllllllll}\n",
       " Aspirin & BabyFood & Beer & Bread & Chips & Coffee & Diaper & IceCream & Juice & Lotion & Milk & Pretzels & Soda & Soup\\\\\n",
       " <int> & <int> & <int> & <int> & <int> & <int> & <int> & <int> & <int> & <int> & <int> & <int> & <int> & <int>\\\\\n",
       "\\hline\n",
       "\t 1 & 0 & 1 & 0 & 1 & 0 & 1 & 0 & 0 & 0 & 0 & 1 & 0 & 0\\\\\n",
       "\t 0 & 1 & 1 & 0 & 1 & 0 & 1 & 0 & 1 & 1 & 1 & 0 & 0 & 0\\\\\n",
       "\t 0 & 0 & 0 & 0 & 1 & 0 & 0 & 0 & 0 & 0 & 1 & 0 & 1 & 0\\\\\n",
       "\t 0 & 0 & 1 & 0 & 0 & 0 & 1 & 1 & 0 & 0 & 1 & 0 & 0 & 1\\\\\n",
       "\t 0 & 0 & 0 & 1 & 0 & 1 & 0 & 0 & 0 & 0 & 1 & 0 & 1 & 0\\\\\n",
       "\t 0 & 0 & 1 & 0 & 1 & 0 & 0 & 0 & 0 & 0 & 0 & 0 & 0 & 0\\\\\n",
       "\\end{tabular}\n"
      ],
      "text/markdown": [
       "\n",
       "A data.frame: 6 × 14\n",
       "\n",
       "| Aspirin &lt;int&gt; | BabyFood &lt;int&gt; | Beer &lt;int&gt; | Bread &lt;int&gt; | Chips &lt;int&gt; | Coffee &lt;int&gt; | Diaper &lt;int&gt; | IceCream &lt;int&gt; | Juice &lt;int&gt; | Lotion &lt;int&gt; | Milk &lt;int&gt; | Pretzels &lt;int&gt; | Soda &lt;int&gt; | Soup &lt;int&gt; |\n",
       "|---|---|---|---|---|---|---|---|---|---|---|---|---|---|\n",
       "| 1 | 0 | 1 | 0 | 1 | 0 | 1 | 0 | 0 | 0 | 0 | 1 | 0 | 0 |\n",
       "| 0 | 1 | 1 | 0 | 1 | 0 | 1 | 0 | 1 | 1 | 1 | 0 | 0 | 0 |\n",
       "| 0 | 0 | 0 | 0 | 1 | 0 | 0 | 0 | 0 | 0 | 1 | 0 | 1 | 0 |\n",
       "| 0 | 0 | 1 | 0 | 0 | 0 | 1 | 1 | 0 | 0 | 1 | 0 | 0 | 1 |\n",
       "| 0 | 0 | 0 | 1 | 0 | 1 | 0 | 0 | 0 | 0 | 1 | 0 | 1 | 0 |\n",
       "| 0 | 0 | 1 | 0 | 1 | 0 | 0 | 0 | 0 | 0 | 0 | 0 | 0 | 0 |\n",
       "\n"
      ],
      "text/plain": [
       "  Aspirin BabyFood Beer Bread Chips Coffee Diaper IceCream Juice Lotion Milk\n",
       "1 1       0        1    0     1     0      1      0        0     0      0   \n",
       "2 0       1        1    0     1     0      1      0        1     1      1   \n",
       "3 0       0        0    0     1     0      0      0        0     0      1   \n",
       "4 0       0        1    0     0     0      1      1        0     0      1   \n",
       "5 0       0        0    1     0     1      0      0        0     0      1   \n",
       "6 0       0        1    0     1     0      0      0        0     0      0   \n",
       "  Pretzels Soda Soup\n",
       "1 1        0    0   \n",
       "2 0        0    0   \n",
       "3 0        1    0   \n",
       "4 0        0    1   \n",
       "5 0        1    0   \n",
       "6 0        0    0   "
      ]
     },
     "metadata": {},
     "output_type": "display_data"
    }
   ],
   "source": [
    "# 用逗號分隔每個字詞\n",
    "library(qdapTools)\n",
    "retail_Basket = mtabulate(strsplit(retail$Basket, \",\"))\n",
    "names(retail_Basket) = gsub(\"'\", \"\", names(retail_Basket))\n",
    "retail_Basket"
   ]
  },
  {
   "cell_type": "code",
   "execution_count": 53,
   "metadata": {},
   "outputs": [
    {
     "data": {
      "text/html": [
       "<table>\n",
       "<caption>A data.frame: 6 × 15</caption>\n",
       "<thead>\n",
       "\t<tr><th></th><th scope=col>ID</th><th scope=col>Aspirin</th><th scope=col>BabyFood</th><th scope=col>Beer</th><th scope=col>Bread</th><th scope=col>Chips</th><th scope=col>Coffee</th><th scope=col>Diaper</th><th scope=col>IceCream</th><th scope=col>Juice</th><th scope=col>Lotion</th><th scope=col>Milk</th><th scope=col>Pretzels</th><th scope=col>Soda</th><th scope=col>Soup</th></tr>\n",
       "\t<tr><th></th><th scope=col>&lt;dbl&gt;</th><th scope=col>&lt;int&gt;</th><th scope=col>&lt;int&gt;</th><th scope=col>&lt;int&gt;</th><th scope=col>&lt;int&gt;</th><th scope=col>&lt;int&gt;</th><th scope=col>&lt;int&gt;</th><th scope=col>&lt;int&gt;</th><th scope=col>&lt;int&gt;</th><th scope=col>&lt;int&gt;</th><th scope=col>&lt;int&gt;</th><th scope=col>&lt;int&gt;</th><th scope=col>&lt;int&gt;</th><th scope=col>&lt;int&gt;</th><th scope=col>&lt;int&gt;</th></tr>\n",
       "</thead>\n",
       "<tbody>\n",
       "\t<tr><th scope=row>1</th><td>1</td><td>1</td><td>0</td><td>1</td><td>0</td><td>1</td><td>0</td><td>1</td><td>0</td><td>0</td><td>0</td><td>0</td><td>1</td><td>0</td><td>0</td></tr>\n",
       "\t<tr><th scope=row>2</th><td>2</td><td>0</td><td>1</td><td>1</td><td>0</td><td>1</td><td>0</td><td>1</td><td>0</td><td>1</td><td>1</td><td>1</td><td>0</td><td>0</td><td>0</td></tr>\n",
       "\t<tr><th scope=row>3</th><td>3</td><td>0</td><td>0</td><td>0</td><td>0</td><td>1</td><td>0</td><td>0</td><td>0</td><td>0</td><td>0</td><td>1</td><td>0</td><td>1</td><td>0</td></tr>\n",
       "\t<tr><th scope=row>4</th><td>4</td><td>0</td><td>0</td><td>1</td><td>0</td><td>0</td><td>0</td><td>1</td><td>1</td><td>0</td><td>0</td><td>1</td><td>0</td><td>0</td><td>1</td></tr>\n",
       "\t<tr><th scope=row>5</th><td>5</td><td>0</td><td>0</td><td>0</td><td>1</td><td>0</td><td>1</td><td>0</td><td>0</td><td>0</td><td>0</td><td>1</td><td>0</td><td>1</td><td>0</td></tr>\n",
       "\t<tr><th scope=row>6</th><td>6</td><td>0</td><td>0</td><td>1</td><td>0</td><td>1</td><td>0</td><td>0</td><td>0</td><td>0</td><td>0</td><td>0</td><td>0</td><td>0</td><td>0</td></tr>\n",
       "</tbody>\n",
       "</table>\n"
      ],
      "text/latex": [
       "A data.frame: 6 × 15\n",
       "\\begin{tabular}{r|lllllllllllllll}\n",
       "  & ID & Aspirin & BabyFood & Beer & Bread & Chips & Coffee & Diaper & IceCream & Juice & Lotion & Milk & Pretzels & Soda & Soup\\\\\n",
       "  & <dbl> & <int> & <int> & <int> & <int> & <int> & <int> & <int> & <int> & <int> & <int> & <int> & <int> & <int> & <int>\\\\\n",
       "\\hline\n",
       "\t1 & 1 & 1 & 0 & 1 & 0 & 1 & 0 & 1 & 0 & 0 & 0 & 0 & 1 & 0 & 0\\\\\n",
       "\t2 & 2 & 0 & 1 & 1 & 0 & 1 & 0 & 1 & 0 & 1 & 1 & 1 & 0 & 0 & 0\\\\\n",
       "\t3 & 3 & 0 & 0 & 0 & 0 & 1 & 0 & 0 & 0 & 0 & 0 & 1 & 0 & 1 & 0\\\\\n",
       "\t4 & 4 & 0 & 0 & 1 & 0 & 0 & 0 & 1 & 1 & 0 & 0 & 1 & 0 & 0 & 1\\\\\n",
       "\t5 & 5 & 0 & 0 & 0 & 1 & 0 & 1 & 0 & 0 & 0 & 0 & 1 & 0 & 1 & 0\\\\\n",
       "\t6 & 6 & 0 & 0 & 1 & 0 & 1 & 0 & 0 & 0 & 0 & 0 & 0 & 0 & 0 & 0\\\\\n",
       "\\end{tabular}\n"
      ],
      "text/markdown": [
       "\n",
       "A data.frame: 6 × 15\n",
       "\n",
       "| <!--/--> | ID &lt;dbl&gt; | Aspirin &lt;int&gt; | BabyFood &lt;int&gt; | Beer &lt;int&gt; | Bread &lt;int&gt; | Chips &lt;int&gt; | Coffee &lt;int&gt; | Diaper &lt;int&gt; | IceCream &lt;int&gt; | Juice &lt;int&gt; | Lotion &lt;int&gt; | Milk &lt;int&gt; | Pretzels &lt;int&gt; | Soda &lt;int&gt; | Soup &lt;int&gt; |\n",
       "|---|---|---|---|---|---|---|---|---|---|---|---|---|---|---|---|\n",
       "| 1 | 1 | 1 | 0 | 1 | 0 | 1 | 0 | 1 | 0 | 0 | 0 | 0 | 1 | 0 | 0 |\n",
       "| 2 | 2 | 0 | 1 | 1 | 0 | 1 | 0 | 1 | 0 | 1 | 1 | 1 | 0 | 0 | 0 |\n",
       "| 3 | 3 | 0 | 0 | 0 | 0 | 1 | 0 | 0 | 0 | 0 | 0 | 1 | 0 | 1 | 0 |\n",
       "| 4 | 4 | 0 | 0 | 1 | 0 | 0 | 0 | 1 | 1 | 0 | 0 | 1 | 0 | 0 | 1 |\n",
       "| 5 | 5 | 0 | 0 | 0 | 1 | 0 | 1 | 0 | 0 | 0 | 0 | 1 | 0 | 1 | 0 |\n",
       "| 6 | 6 | 0 | 0 | 1 | 0 | 1 | 0 | 0 | 0 | 0 | 0 | 0 | 0 | 0 | 0 |\n",
       "\n"
      ],
      "text/plain": [
       "  ID Aspirin BabyFood Beer Bread Chips Coffee Diaper IceCream Juice Lotion Milk\n",
       "1 1  1       0        1    0     1     0      1      0        0     0      0   \n",
       "2 2  0       1        1    0     1     0      1      0        1     1      1   \n",
       "3 3  0       0        0    0     1     0      0      0        0     0      1   \n",
       "4 4  0       0        1    0     0     0      1      1        0     0      1   \n",
       "5 5  0       0        0    1     0     1      0      0        0     0      1   \n",
       "6 6  0       0        1    0     1     0      0      0        0     0      0   \n",
       "  Pretzels Soda Soup\n",
       "1 1        0    0   \n",
       "2 0        0    0   \n",
       "3 0        1    0   \n",
       "4 0        0    1   \n",
       "5 0        1    0   \n",
       "6 0        0    0   "
      ]
     },
     "metadata": {},
     "output_type": "display_data"
    }
   ],
   "source": [
    "# 把ID欄位組回來\n",
    "retail = cbind(retail_id,retail_Basket)\n",
    "retail"
   ]
  },
  {
   "cell_type": "code",
   "execution_count": 60,
   "metadata": {},
   "outputs": [
    {
     "name": "stderr",
     "output_type": "stream",
     "text": [
      "Warning message:\n",
      "\"Column(s) 1, 2, 3, 4, 5, 6, 7, 8, 9, 10, 11, 12, 13, 14 not logical or factor. Applying default discretization (see '? discretizeDF').\"\n"
     ]
    },
    {
     "ename": "ERROR",
     "evalue": "Error in discretizeDF(from): Problem with column Aspirin\nError in discretize(x = c(1L, 0L, 0L, 0L, 0L, 0L)) : \n  The calculated breaks are: 0, 0, 0, 1\n  Some breaks are not unique. Change the number of breaks or consider using method 'fixed'.\n\n",
     "output_type": "error",
     "traceback": [
      "Error in discretizeDF(from): Problem with column Aspirin\nError in discretize(x = c(1L, 0L, 0L, 0L, 0L, 0L)) : \n  The calculated breaks are: 0, 0, 0, 1\n  Some breaks are not unique. Change the number of breaks or consider using method 'fixed'.\n\nTraceback:\n",
      "1. apriori(retail[, -1], parameter = list(support = 0.5, minlen = 2))",
      "2. as(data, \"transactions\")",
      "3. asMethod(object)",
      "4. discretizeDF(from)",
      "5. stop(\"Problem with column \", i, \"\\n\", err)"
     ]
    }
   ],
   "source": [
    "#一樣先轉\n",
    "frequent_itemsets_2 = apriori(retail[,-1],parameter=list(support=0.5,minlen=2))\n",
    "inspect(frequent_itemsets_2)"
   ]
  },
  {
   "cell_type": "code",
   "execution_count": 57,
   "metadata": {},
   "outputs": [
    {
     "name": "stdout",
     "output_type": "stream",
     "text": [
      "     lhs                   rhs        support   confidence lift count\n",
      "[1]  {Onion=1}          => {Potato=1} 0.6666667 1.0        1.2  4    \n",
      "[2]  {Potato=1}         => {Onion=1}  0.6666667 0.8        1.2  4    \n",
      "[3]  {Burger=1}         => {Potato=1} 0.6666667 1.0        1.2  4    \n",
      "[4]  {Potato=1}         => {Burger=1} 0.6666667 0.8        1.2  4    \n",
      "[5]  {Beer=0}           => {Potato=1} 0.6666667 1.0        1.2  4    \n",
      "[6]  {Potato=1}         => {Beer=0}   0.6666667 0.8        1.2  4    \n",
      "[7]  {Onion=1,Burger=1} => {Potato=1} 0.5000000 1.0        1.2  3    \n",
      "[8]  {Onion=1,Beer=0}   => {Potato=1} 0.5000000 1.0        1.2  3    \n",
      "[9]  {Burger=1,Beer=0}  => {Potato=1} 0.5000000 1.0        1.2  3    \n",
      "[10] {Milk=1,Beer=0}    => {Potato=1} 0.5000000 1.0        1.2  3    \n",
      "[11] {Potato=1,Milk=1}  => {Beer=0}   0.5000000 1.0        1.5  3    \n"
     ]
    }
   ],
   "source": []
  },
  {
   "cell_type": "code",
   "execution_count": null,
   "metadata": {},
   "outputs": [],
   "source": []
  }
 ],
 "metadata": {
  "kernelspec": {
   "display_name": "R",
   "language": "R",
   "name": "ir"
  },
  "language_info": {
   "codemirror_mode": "r",
   "file_extension": ".r",
   "mimetype": "text/x-r-source",
   "name": "R",
   "pygments_lexer": "r",
   "version": "3.6.2"
  }
 },
 "nbformat": 4,
 "nbformat_minor": 4
}
